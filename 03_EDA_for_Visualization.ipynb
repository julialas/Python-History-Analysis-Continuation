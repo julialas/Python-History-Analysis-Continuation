{
 "cells": [
  {
   "cell_type": "code",
   "execution_count": 1,
   "id": "eeab736c",
   "metadata": {
    "ExecuteTime": {
     "end_time": "2021-09-13T10:06:07.503141Z",
     "start_time": "2021-09-13T10:06:05.505676Z"
    }
   },
   "outputs": [],
   "source": [
    "import pandas as pd\n",
    "import numpy as np\n",
    "import matplotlib.pyplot as plt\n",
    "import seaborn as sns\n",
    "from wordcloud import WordCloud, STOPWORDS, ImageColorGenerator"
   ]
  },
  {
   "cell_type": "markdown",
   "id": "5c99fb10",
   "metadata": {},
   "source": [
    "## 2. Data Processing for Figure 1"
   ]
  },
  {
   "cell_type": "code",
   "execution_count": null,
   "id": "c3d66fbf",
   "metadata": {
    "ExecuteTime": {
     "start_time": "2021-09-13T10:06:05.436Z"
    },
    "scrolled": true
   },
   "outputs": [],
   "source": [
    "# Obtain processed data\n",
    "df_new = pd.read_csv(\"processed_data.csv\")\n",
    "df_tags = df_new[['month', \"Tags-2\"]]\n",
    "df_tags.drop_duplicates(inplace=True)\n",
    "print(df_tags.shape)\n",
    "df_tags.head(20)"
   ]
  },
  {
   "cell_type": "code",
   "execution_count": null,
   "id": "f01e9ecf",
   "metadata": {
    "ExecuteTime": {
     "start_time": "2021-09-13T10:06:05.440Z"
    },
    "scrolled": true
   },
   "outputs": [],
   "source": [
    "# Obtain count of questions and tags per month\n",
    "questions = df_new.groupby('month').size().to_frame()\n",
    "df_month = df_tags.groupby('month').size().to_frame()\n",
    "df_month = pd.concat([df_month, questions], axis=1)\n",
    "df_month.columns = ['tags', 'docs']\n",
    "df_month.index = df_month.index.astype(str)\n",
    "df_month.tail(20)"
   ]
  },
  {
   "cell_type": "code",
   "execution_count": null,
   "id": "cebe3b8b",
   "metadata": {
    "ExecuteTime": {
     "start_time": "2021-09-13T10:06:05.445Z"
    }
   },
   "outputs": [],
   "source": [
    "# Save as csv\n",
    "df_month.to_csv('python_counts.csv')"
   ]
  },
  {
   "cell_type": "code",
   "execution_count": null,
   "id": "ad65d0ff",
   "metadata": {
    "ExecuteTime": {
     "start_time": "2021-09-13T10:06:05.452Z"
    }
   },
   "outputs": [],
   "source": [
    "# Create plot of counts over time\n",
    "import matplotlib.patches as patches\n",
    "fig, ax1 = plt.subplots(figsize=(12, 5), dpi=80)\n",
    "\n",
    "ax2 = ax1.twinx()\n",
    "ax1.plot(df_month.index, df_month['docs'], 'g-', marker='.')\n",
    "ax2.plot(df_month.index, df_month['tags'], 'b-', marker='.')\n",
    "\n",
    "ax1.set_xlabel('Year')\n",
    "ax1.set_ylabel('Nos. of Questions', color='g')\n",
    "ax2.set_ylabel('Nos. of Tags', color='b')\n",
    "ax1.set_xticks(np.append(np.arange(0, 120, 12), 119), [])\n",
    "\n",
    "\n",
    "ax1.add_patch(\n",
    "    patches.Rectangle(\n",
    "        xy=(120-12, 0),  # point of origin.\n",
    "        width=12, height=90000, linewidth=1, facecolor=\"grey\", \n",
    "        fill=True, alpha=0.4))\n",
    "plt.show()\n",
    "\n",
    "plt.show()"
   ]
  },
  {
   "cell_type": "markdown",
   "id": "8309ba5c",
   "metadata": {},
   "source": [
    "## 2. Data Processing for Figure 4"
   ]
  },
  {
   "cell_type": "code",
   "execution_count": null,
   "id": "02845943",
   "metadata": {
    "ExecuteTime": {
     "start_time": "2021-09-13T10:06:05.456Z"
    }
   },
   "outputs": [],
   "source": [
    "# Access the data\n",
    "df = pd.read_csv(\"clustered_data.csv\") # 2019 Data with clustering results\n",
    "df_2 = pd.read_csv('stackexchange_data.csv') # Data obtained from XML file\n",
    "\n",
    "print(\"2019 Data\")\n",
    "print(df.shape)\n",
    "print(df.columns)\n",
    "\n",
    "print(\"\\nAll Data\")\n",
    "print(df_2.shape)\n",
    "print(df_2.columns)"
   ]
  },
  {
   "cell_type": "code",
   "execution_count": null,
   "id": "fba838ad",
   "metadata": {
    "ExecuteTime": {
     "start_time": "2021-09-13T10:06:05.463Z"
    }
   },
   "outputs": [],
   "source": [
    "# Remove unnecessary columns\n",
    "df_2_v2 = df_2.copy().dropna(how='all', axis=1)\n",
    "df_2_v2.columns = df_2.columns[1:]"
   ]
  },
  {
   "cell_type": "code",
   "execution_count": null,
   "id": "eb5d0d96",
   "metadata": {
    "ExecuteTime": {
     "start_time": "2021-09-13T10:06:05.469Z"
    }
   },
   "outputs": [],
   "source": [
    "# inner merge the two data frames\n",
    "df_final = pd.merge(df_2_v2, df[['XML_Line', 'Cluster']],\n",
    "                    how='inner', on=\"XML_Line\")"
   ]
  },
  {
   "cell_type": "code",
   "execution_count": null,
   "id": "4870a4a6",
   "metadata": {
    "ExecuteTime": {
     "start_time": "2021-09-13T10:06:05.473Z"
    }
   },
   "outputs": [],
   "source": [
    "# Check new dataframe\n",
    "print(df_final.shape)\n",
    "df_final.head()"
   ]
  },
  {
   "cell_type": "code",
   "execution_count": null,
   "id": "851ada08",
   "metadata": {
    "ExecuteTime": {
     "start_time": "2021-09-13T10:06:05.485Z"
    }
   },
   "outputs": [],
   "source": [
    "# Remove duplicate rows\n",
    "df_final.drop_duplicates(inplace=True)\n",
    "df_final.head()"
   ]
  },
  {
   "cell_type": "code",
   "execution_count": null,
   "id": "a106b3a6",
   "metadata": {
    "ExecuteTime": {
     "start_time": "2021-09-13T10:06:05.488Z"
    }
   },
   "outputs": [],
   "source": [
    "# Obtain mean for engagement metrics\n",
    "df_metrics =  df_final.groupby('Cluster')['ViewCount',\n",
    "                                          'AnswerCount',\n",
    "                                          'CommentCount',\n",
    "                                          'FavoriteCount'].mean()\n",
    "df_metrics"
   ]
  },
  {
   "cell_type": "code",
   "execution_count": null,
   "id": "a42f4d85",
   "metadata": {
    "ExecuteTime": {
     "start_time": "2021-09-13T10:06:05.492Z"
    }
   },
   "outputs": [],
   "source": [
    "# Combine engagement metrics with cluster length\n",
    "df_metrics2 = df_final.groupby('Cluster').size().rename('PostCount')\n",
    "df_metrics2 = pd.concat([df_metrics, df_metrics2], axis=1)\n",
    "df_metrics2"
   ]
  },
  {
   "cell_type": "code",
   "execution_count": null,
   "id": "4c96f3ca",
   "metadata": {
    "ExecuteTime": {
     "start_time": "2021-09-13T10:06:05.497Z"
    }
   },
   "outputs": [],
   "source": [
    "# Scale the metrics\n",
    "from sklearn.preprocessing import MinMaxScaler\n",
    "\n",
    "scaler = MinMaxScaler()\n",
    "scaled = scaler.fit_transform(df_metrics2)\n",
    "\n",
    "df_scaled = pd.DataFrame(scaled,\n",
    "                         index=df_metrics2.index,\n",
    "                         columns=df_metrics2.columns).reset_index()\n",
    "df_scaled"
   ]
  },
  {
   "cell_type": "code",
   "execution_count": null,
   "id": "78feea50",
   "metadata": {
    "ExecuteTime": {
     "start_time": "2021-09-13T10:06:05.506Z"
    }
   },
   "outputs": [],
   "source": [
    "# Save to csv\n",
    "#df_scaled.to_csv('cluster_metrics.csv')"
   ]
  },
  {
   "cell_type": "code",
   "execution_count": null,
   "id": "933e764a",
   "metadata": {
    "ExecuteTime": {
     "start_time": "2021-09-13T10:06:05.509Z"
    }
   },
   "outputs": [],
   "source": [
    "# Create radar plot\n",
    "from math import pi\n",
    "def make_spider(row, title, color):\n",
    " \n",
    "    # number of variable\n",
    "    categories=list(df_scaled)[1:]\n",
    "    N = len(categories)\n",
    " \n",
    "    # What will be the angle of each axis in the plot? (we divide the plot / number of variable)\n",
    "    angles = [n / float(N) * 2 * pi for n in range(N)]\n",
    "    angles += angles[:1]\n",
    " \n",
    "    # Initialise the spider plot\n",
    "    ax = plt.subplot(2, 2, row+1, polar=True )\n",
    " \n",
    "    # If you want the first axis to be on top:\n",
    "    ax.set_theta_offset(pi / 2)\n",
    "    ax.set_theta_direction(-1)\n",
    "    \n",
    "    # Draw one axe per variable + add labels labels yet\n",
    "    plt.xticks(angles[:-1], categories, color='grey', size=8)\n",
    " \n",
    "    # Draw ylabels\n",
    "    ax.set_rlabel_position(0)\n",
    "#     plt.yticks([-2, -1, 0, 1, 2], [-2,-1, 0, 1, 2], color=\"grey\", size=7) #for sscaled\n",
    "#     plt.ylim(-2.5,2.5)\n",
    "    plt.yticks([0, 0.25, 0.5, 0.75, 1], [0, 0.25, 0.5,0.75, 1], \n",
    "               color=\"grey\", size=7) #formmscaled\n",
    "    plt.ylim(-0.1,1)\n",
    "\n",
    "    # Ind1\n",
    "    values=df_scaled.loc[row].drop('Cluster').values.flatten().tolist()\n",
    "    values += values[:1]\n",
    "    ax.plot(angles, values, color=color, linewidth=2, linestyle='solid')\n",
    "    ax.fill(angles, values, color=color, alpha=0.4)\n",
    " \n",
    "    # Add a title\n",
    "    plt.title(title, size=14, color=color, y=1.1)\n",
    " \n",
    "    "
   ]
  },
  {
   "cell_type": "code",
   "execution_count": null,
   "id": "aa974af4",
   "metadata": {
    "ExecuteTime": {
     "start_time": "2021-09-13T10:06:05.515Z"
    }
   },
   "outputs": [],
   "source": [
    "# Display radar chart\n",
    "plt.figure(figsize=(12, 6), dpi=100)\n",
    "plt.subplots_adjust(hspace=0.5)\n",
    "\n",
    "# Create a color palette:\n",
    "my_palette = plt.cm.get_cmap(\"Set2\", len(df_scaled.index))\n",
    "\n",
    "for row in range(0, len(df_scaled.index)):\n",
    "    make_spider(row=row, \n",
    "                title='Cluster '+(df_scaled['Cluster'][row]).astype(str), \n",
    "                color=my_palette(row))"
   ]
  },
  {
   "cell_type": "code",
   "execution_count": null,
   "id": "ca2eb516",
   "metadata": {},
   "outputs": [],
   "source": []
  }
 ],
 "metadata": {
  "kernelspec": {
   "display_name": "Python 3",
   "language": "python",
   "name": "python3"
  },
  "language_info": {
   "codemirror_mode": {
    "name": "ipython",
    "version": 3
   },
   "file_extension": ".py",
   "mimetype": "text/x-python",
   "name": "python",
   "nbconvert_exporter": "python",
   "pygments_lexer": "ipython3",
   "version": "3.8.8"
  },
  "toc": {
   "base_numbering": 1,
   "nav_menu": {},
   "number_sections": true,
   "sideBar": true,
   "skip_h1_title": false,
   "title_cell": "Table of Contents",
   "title_sidebar": "Contents",
   "toc_cell": false,
   "toc_position": {},
   "toc_section_display": true,
   "toc_window_display": false
  }
 },
 "nbformat": 4,
 "nbformat_minor": 5
}
