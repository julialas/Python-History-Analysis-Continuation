{
 "cells": [
  {
   "cell_type": "code",
   "execution_count": 1,
   "id": "a381b52d",
   "metadata": {
    "ExecuteTime": {
     "end_time": "2021-09-13T00:34:13.230127Z",
     "start_time": "2021-09-13T00:34:10.309847Z"
    }
   },
   "outputs": [],
   "source": [
    "# Import packages\n",
    "import pickle\n",
    "import pandas as pd\n",
    "import numpy as np\n",
    "import matplotlib.pyplot as plt\n",
    "import seaborn as sns\n",
    "from xml.etree import ElementTree as ET\n",
    "from tqdm import tqdm\n",
    "from sklearn.feature_extraction.text import TfidfVectorizer\n",
    "from sklearn.decomposition import TruncatedSVD"
   ]
  },
  {
   "cell_type": "markdown",
   "id": "ca28ad24",
   "metadata": {},
   "source": [
    "# Data Profiling"
   ]
  },
  {
   "cell_type": "code",
   "execution_count": null,
   "id": "8b40faf3",
   "metadata": {
    "ExecuteTime": {
     "end_time": "2021-09-12T03:46:58.034923Z",
     "start_time": "2021-09-12T03:46:51.019240Z"
    }
   },
   "outputs": [],
   "source": [
    "# Read and inspect data\n",
    "df = pd.read_csv('stackexchange_data.csv')\n",
    "df.columns = list(df.columns[1:])+['ToDrop']\n",
    "df.drop('ToDrop',axis = 1, inplace = True)\n",
    "\n",
    "print(df.shape)\n",
    "display(df.info())\n",
    "df.head()"
   ]
  },
  {
   "cell_type": "code",
   "execution_count": null,
   "id": "7de1de1f",
   "metadata": {
    "ExecuteTime": {
     "end_time": "2021-09-12T03:46:58.392752Z",
     "start_time": "2021-09-12T03:46:58.037490Z"
    }
   },
   "outputs": [],
   "source": [
    "# Check for missing values\n",
    "df.isna().sum()"
   ]
  },
  {
   "cell_type": "markdown",
   "id": "ab10493f",
   "metadata": {},
   "source": [
    "## Data Processing"
   ]
  },
  {
   "cell_type": "code",
   "execution_count": null,
   "id": "a0aead10",
   "metadata": {
    "ExecuteTime": {
     "end_time": "2021-09-12T03:46:58.563287Z",
     "start_time": "2021-09-12T03:46:58.394932Z"
    }
   },
   "outputs": [],
   "source": [
    "# Create copy of dataframe\n",
    "df2 = df.copy()"
   ]
  },
  {
   "cell_type": "markdown",
   "id": "d796276f",
   "metadata": {},
   "source": [
    "### Obtain only documents with Python Tag"
   ]
  },
  {
   "cell_type": "code",
   "execution_count": null,
   "id": "3d88de9b",
   "metadata": {
    "ExecuteTime": {
     "end_time": "2021-09-12T03:47:04.549161Z",
     "start_time": "2021-09-12T03:46:58.565077Z"
    }
   },
   "outputs": [],
   "source": [
    "# Convert the obtained tags to a list\n",
    "df2[\"Tags-2\"] = df2[\"Tags\"].str.split('|')\n",
    "df2.head()"
   ]
  },
  {
   "cell_type": "code",
   "execution_count": null,
   "id": "e53cb905",
   "metadata": {
    "ExecuteTime": {
     "end_time": "2021-09-12T03:47:10.255688Z",
     "start_time": "2021-09-12T03:47:04.550622Z"
    }
   },
   "outputs": [],
   "source": [
    "# Filter the new dataframe to those only with python as a tag \n",
    "# Then create a column with one tag per row\n",
    "keywords = ['python']\n",
    "df_sub = df2[df2['Tags'].apply(lambda x: any([k in x for k in keywords]))]\n",
    "df_sub = df_sub.explode(\"Tags-2\")\n",
    "df_sub.head()"
   ]
  },
  {
   "cell_type": "code",
   "execution_count": null,
   "id": "c18c938c",
   "metadata": {
    "ExecuteTime": {
     "end_time": "2021-09-12T03:47:11.054392Z",
     "start_time": "2021-09-12T03:47:10.257142Z"
    }
   },
   "outputs": [],
   "source": [
    "# Filter the DataFrame\n",
    "print(df_sub.shape)\n",
    "df_sub['Tags-2'].nunique()"
   ]
  },
  {
   "cell_type": "markdown",
   "id": "f89bcb3e",
   "metadata": {},
   "source": [
    "## Dimensionality Reduction of Each Year"
   ]
  },
  {
   "cell_type": "markdown",
   "id": "d2c9e3b2",
   "metadata": {},
   "source": [
    "### Extract the Month and Year of the Data"
   ]
  },
  {
   "cell_type": "code",
   "execution_count": null,
   "id": "ed92a2fd",
   "metadata": {
    "ExecuteTime": {
     "end_time": "2021-09-12T03:47:23.829173Z",
     "start_time": "2021-09-12T03:47:11.057280Z"
    }
   },
   "outputs": [],
   "source": [
    "# Split the date and time portion of the Date column\n",
    "df_sub[['Year_month', 'Time']] = df_sub[\"Date\"].str.split(\"T\", expand=True)"
   ]
  },
  {
   "cell_type": "code",
   "execution_count": null,
   "id": "1128b577",
   "metadata": {
    "ExecuteTime": {
     "end_time": "2021-09-12T03:47:26.631499Z",
     "start_time": "2021-09-12T03:47:23.832021Z"
    }
   },
   "outputs": [],
   "source": [
    "# Obtain the year and month from the date\n",
    "df_sub['yr'] = pd.to_datetime(df_sub['Year_month']).dt.year.astype(int)\n",
    "df_sub['month'] = pd.to_datetime(df_sub['Year_month']).dt.to_period('M')\n",
    "df_sub.head()"
   ]
  },
  {
   "cell_type": "code",
   "execution_count": null,
   "id": "cf9b6699",
   "metadata": {
    "ExecuteTime": {
     "end_time": "2021-09-12T03:47:28.888201Z",
     "start_time": "2021-09-12T03:47:26.632976Z"
    }
   },
   "outputs": [],
   "source": [
    "# Filter the data to only contain the years 2010 to 2019\n",
    "df_new = df_sub[(df_sub[\"yr\"] >= 2010) & (df_sub[\"yr\"] != 2020)]"
   ]
  },
  {
   "cell_type": "code",
   "execution_count": null,
   "id": "58671f2e",
   "metadata": {
    "ExecuteTime": {
     "end_time": "2021-09-12T03:47:30.688201Z",
     "start_time": "2021-09-12T03:47:28.890199Z"
    }
   },
   "outputs": [],
   "source": [
    "# Create a new coloumn that changes the delimeter of the tags to a space\n",
    "df_new[\"Tags-3\"] = df_new[\"Tags\"].str.replace('|', \" \")\n",
    "df_new.head()"
   ]
  },
  {
   "cell_type": "code",
   "execution_count": null,
   "id": "db055153",
   "metadata": {
    "ExecuteTime": {
     "end_time": "2021-09-12T03:48:17.286657Z",
     "start_time": "2021-09-12T03:47:37.424390Z"
    }
   },
   "outputs": [],
   "source": [
    "#Save to csv\n",
    "df_new.to_csv(\"processed_data.csv\")"
   ]
  },
  {
   "cell_type": "markdown",
   "id": "1bb329c6",
   "metadata": {},
   "source": [
    "### Split Data by Year"
   ]
  },
  {
   "cell_type": "code",
   "execution_count": null,
   "id": "000b77eb",
   "metadata": {
    "ExecuteTime": {
     "end_time": "2021-09-12T03:52:33.150005Z",
     "start_time": "2021-09-12T03:52:19.417775Z"
    }
   },
   "outputs": [],
   "source": [
    "# Read the data - Start here when reopining the notebook\n",
    "df_new = pd.read_csv(\"processed_data.csv\")"
   ]
  },
  {
   "cell_type": "code",
   "execution_count": null,
   "id": "cf588162",
   "metadata": {
    "ExecuteTime": {
     "end_time": "2021-09-12T03:52:33.748297Z",
     "start_time": "2021-09-12T03:52:33.152404Z"
    }
   },
   "outputs": [],
   "source": [
    "df_2010 = df_new[df_new[\"yr\"] == 2010]\n",
    "df_2011 = df_new[df_new[\"yr\"] == 2011]\n",
    "df_2012 = df_new[df_new[\"yr\"] == 2012]\n",
    "df_2013 = df_new[df_new[\"yr\"] == 2013]\n",
    "df_2014 = df_new[df_new[\"yr\"] == 2014]\n",
    "df_2015 = df_new[df_new[\"yr\"] == 2015]\n",
    "df_2016 = df_new[df_new[\"yr\"] == 2016]\n",
    "df_2017 = df_new[df_new[\"yr\"] == 2017]\n",
    "df_2018 = df_new[df_new[\"yr\"] == 2018]\n",
    "df_2019 = df_new[df_new[\"yr\"] == 2019]\n",
    "df_2020 = df_new[df_new[\"yr\"] == 2020]\n",
    "\n",
    "# Create a list of all dataframes\n",
    "dfs = [df_2010, df_2011, df_2012, df_2013, df_2014,\n",
    "       df_2015, df_2016, df_2017, df_2018, df_2019]"
   ]
  },
  {
   "cell_type": "markdown",
   "id": "c21db385",
   "metadata": {
    "ExecuteTime": {
     "end_time": "2021-09-12T02:49:19.657785Z",
     "start_time": "2021-09-12T02:49:19.654410Z"
    }
   },
   "source": [
    "### Perform TF-IDF"
   ]
  },
  {
   "cell_type": "markdown",
   "id": "66c7bbe6",
   "metadata": {},
   "source": [
    "- TFIDF was used to vectorize the tags obtained. \n",
    "- A TFIDF matrix was created for each year. "
   ]
  },
  {
   "cell_type": "code",
   "execution_count": null,
   "id": "0af32401",
   "metadata": {
    "ExecuteTime": {
     "end_time": "2021-09-12T03:52:53.089498Z",
     "start_time": "2021-09-12T03:52:33.750551Z"
    }
   },
   "outputs": [],
   "source": [
    "# Perform TFIDF for every year\n",
    "vecs = ['vec_2010', 'vec_2011', 'vec_2012', 'vec_2013', 'vec_2014',\n",
    "        'vec_2015', 'vec_2016', 'vec_2017', 'vec_2018', 'vec_2019']\n",
    "df_tfidf = []\n",
    "for i, data in enumerate(dfs):\n",
    "    vecs[i] = TfidfVectorizer(min_df=500, token_pattern=r\"(?u)\\S\\S+\")\n",
    "    df_tfidf.append(vecs[i].fit_transform(data[\"Tags-3\"]))\n",
    "    print(df_tfidf[i].shape)"
   ]
  },
  {
   "cell_type": "code",
   "execution_count": null,
   "id": "ba3055a5",
   "metadata": {
    "ExecuteTime": {
     "end_time": "2021-09-12T03:52:53.108012Z",
     "start_time": "2021-09-12T03:52:53.092139Z"
    }
   },
   "outputs": [],
   "source": [
    "# Inspect the top terms obtained for 1 year from TFIDF\n",
    "terms = vecs[0].get_feature_names()\n",
    "\n",
    "# sum tfidf frequency of each term through documents\n",
    "sums = df_tfidf[0].sum(axis=0)\n",
    "\n",
    "# connecting term to its sums frequency\n",
    "data = []\n",
    "for col, term in enumerate(terms):\n",
    "    data.append((term, sums[0,col]))\n",
    "\n",
    "ranking = pd.DataFrame(data, columns=['term','rank'])\n",
    "rank = ranking.sort_values('rank', ascending=False)\n",
    "print(rank[:50])"
   ]
  },
  {
   "cell_type": "markdown",
   "id": "4f415159",
   "metadata": {},
   "source": [
    "### Identify Parameters for SVD\n",
    "- SVD was tested using one year data to assess performance.\n",
    "- Upon checking, it was observed that limitations on computational capacity allows us to run only a limited amount of model components which reaches approximately 50% of explained variance.  "
   ]
  },
  {
   "cell_type": "code",
   "execution_count": null,
   "id": "1ef8fb58",
   "metadata": {
    "ExecuteTime": {
     "end_time": "2021-09-12T03:56:11.060222Z",
     "start_time": "2021-09-12T03:52:53.109840Z"
    }
   },
   "outputs": [],
   "source": [
    "# Test run the SVD\n",
    "svd_model = TruncatedSVD(n_components=100) # captures 50% of variance explained\n",
    "svd_model.fit(df_tfidf[9])\n",
    "model = svd_model.fit_transform(df_tfidf[9])\n",
    "terms = vecs[9].get_feature_names()\n",
    "\n",
    "pd.DataFrame(model)"
   ]
  },
  {
   "cell_type": "code",
   "execution_count": null,
   "id": "91063115",
   "metadata": {
    "ExecuteTime": {
     "end_time": "2021-09-12T03:56:11.066800Z",
     "start_time": "2021-09-12T03:56:11.061968Z"
    }
   },
   "outputs": [],
   "source": [
    "# Check the explained variance ratio obtained for one year\n",
    "ve = svd_model.explained_variance_ratio_\n",
    "ve"
   ]
  },
  {
   "cell_type": "code",
   "execution_count": null,
   "id": "7cc8d484",
   "metadata": {
    "ExecuteTime": {
     "end_time": "2021-09-12T04:04:07.088126Z",
     "start_time": "2021-09-12T04:04:07.083838Z"
    }
   },
   "outputs": [],
   "source": [
    "# Check the cumulative explained variance ratio obtained for one year\n",
    "ve.cumsum() >= 0.6"
   ]
  },
  {
   "cell_type": "code",
   "execution_count": null,
   "id": "f92bc6ec",
   "metadata": {
    "ExecuteTime": {
     "end_time": "2021-09-12T03:56:11.241072Z",
     "start_time": "2021-09-12T03:56:11.077390Z"
    }
   },
   "outputs": [],
   "source": [
    "# Plot the explained variance obtained\n",
    "fig, ax = plt.subplots()\n",
    "ax.plot(range(1, len(ve)+1), ve, 'o-', label='individual')\n",
    "ax.plot(range(1, len(ve)+1), ve.cumsum(), 'o-', label='cumulative')\n",
    "ax.legend()\n",
    "ax.set_ylim(0, 1)\n",
    "ax.set_xlabel('SV')\n",
    "ax.set_ylabel('variance explained');"
   ]
  },
  {
   "cell_type": "code",
   "execution_count": null,
   "id": "cd2e8e8f",
   "metadata": {
    "ExecuteTime": {
     "end_time": "2021-09-12T03:56:11.248145Z",
     "start_time": "2021-09-12T03:56:11.242840Z"
    }
   },
   "outputs": [],
   "source": [
    "# Check the best features for one SV\n",
    "best_features = [(terms[i], svd_model.components_[0][i]) \n",
    "                 for i in svd_model.components_[0].argsort()[::-1]]\n",
    "best_features[:10]"
   ]
  },
  {
   "cell_type": "markdown",
   "id": "6e2ad869",
   "metadata": {},
   "source": [
    "### Perform SVD from obtained optimal parameters"
   ]
  },
  {
   "cell_type": "code",
   "execution_count": null,
   "id": "e2f986b7",
   "metadata": {
    "ExecuteTime": {
     "end_time": "2021-09-12T04:04:06.992811Z",
     "start_time": "2021-09-12T03:56:11.249830Z"
    }
   },
   "outputs": [],
   "source": [
    "# Obtain the SVD results for all years\n",
    "\n",
    "df_all = pd.DataFrame()\n",
    "for i, year in tqdm(enumerate(np.arange(2010, 2020))):\n",
    "    if i == 0:\n",
    "        svd_model = TruncatedSVD(n_components=50)\n",
    "        svd_model.fit(df_tfidf[i])\n",
    "        terms = vecs[i].get_feature_names()\n",
    "    else:\n",
    "        svd_model = TruncatedSVD(n_components=100)\n",
    "        svd_model.fit(df_tfidf[i])\n",
    "        terms = vecs[i].get_feature_names()\n",
    "        \n",
    "    df_tags = pd.DataFrame()\n",
    "    d_all = {}\n",
    "    for i, comp in enumerate(svd_model.components_):   \n",
    "        if i != 11:\n",
    "            best_features = [(terms[n], np.abs(svd_model.components_[i][n]))\n",
    "                 for n in np.abs(svd_model.components_[i].argsort())[::-1]]  \n",
    "            d_ = {}\n",
    "            d_[\"SV_\"+str(i)] = best_features  \n",
    "            d_all.update(d_)\n",
    "        else:\n",
    "            break\n",
    "    df_tags = df_tags.from_dict(d_all)\n",
    "    df_tags['year'] = year\n",
    "    df_all = df_all.append(df_tags)\n",
    "    display(df_all)"
   ]
  },
  {
   "cell_type": "code",
   "execution_count": null,
   "id": "150e11a0",
   "metadata": {
    "ExecuteTime": {
     "end_time": "2021-09-12T04:04:07.081669Z",
     "start_time": "2021-09-12T04:04:06.994896Z"
    }
   },
   "outputs": [],
   "source": [
    "# Save the results to csv\n",
    "df_all.to_csv(\"svd_results_wordlist.csv\")"
   ]
  },
  {
   "cell_type": "markdown",
   "id": "0c8265ae",
   "metadata": {},
   "source": [
    "# Clustering of 2019 SVs"
   ]
  },
  {
   "cell_type": "code",
   "execution_count": null,
   "id": "32a43c67",
   "metadata": {
    "ExecuteTime": {
     "end_time": "2021-09-12T07:04:39.431726Z",
     "start_time": "2021-09-12T07:04:22.987347Z"
    }
   },
   "outputs": [],
   "source": [
    "df_new = pd.read_csv(\"processed_data.csv\")\n",
    "data = df_new[df_new[\"yr\"] == 2019]\n",
    "vectorizer = TfidfVectorizer(min_df=500, token_pattern=r\"(?u)\\S\\S+\")\n",
    "df_tfidf = vectorizer.fit_transform(data[\"Tags-3\"])\n",
    "feature_names = vectorizer.get_feature_names()\n",
    "print(df_tfidf.shape)"
   ]
  },
  {
   "cell_type": "markdown",
   "id": "e40d3d81",
   "metadata": {},
   "source": [
    "## Identify Minimum Number of N_Components for at least 60% of Variance"
   ]
  },
  {
   "cell_type": "code",
   "execution_count": null,
   "id": "5de3a51d",
   "metadata": {
    "ExecuteTime": {
     "end_time": "2021-09-12T07:06:08.067877Z",
     "start_time": "2021-09-12T07:04:39.434670Z"
    }
   },
   "outputs": [],
   "source": [
    "svd = TruncatedSVD(n_components=100,\n",
    "                  random_state = 1337)\n",
    "svd.fit(df_tfidf)\n",
    "s = svd.explained_variance_ratio_\n",
    "min_c = len(s[s.cumsum() < 0.6]) + 1\n",
    "print(f\"60% of variance can be explained by n_components = {min_c}\")"
   ]
  },
  {
   "cell_type": "markdown",
   "id": "33961e01",
   "metadata": {},
   "source": [
    "## Performing SVD on 2019 Tags"
   ]
  },
  {
   "cell_type": "code",
   "execution_count": null,
   "id": "63fd84b2",
   "metadata": {
    "ExecuteTime": {
     "end_time": "2021-09-12T07:07:09.837524Z",
     "start_time": "2021-09-12T07:06:08.071139Z"
    }
   },
   "outputs": [],
   "source": [
    "svd_model = TruncatedSVD(n_components=min_c)\n",
    "svd_model.fit(df_tfidf)\n",
    "df_svd = svd_model.transform(df_tfidf)\n",
    "df_svd.shape"
   ]
  },
  {
   "cell_type": "markdown",
   "id": "027029d1",
   "metadata": {},
   "source": [
    "### Feature Importances in Each SV"
   ]
  },
  {
   "cell_type": "code",
   "execution_count": null,
   "id": "b36231d7",
   "metadata": {
    "ExecuteTime": {
     "end_time": "2021-09-12T07:07:10.020434Z",
     "start_time": "2021-09-12T07:07:09.839898Z"
    }
   },
   "outputs": [],
   "source": [
    "df_tags = pd.DataFrame()\n",
    "d_all = {}\n",
    "for i, comp in enumerate(svd_model.components_):   \n",
    "    best_features = [(feature_names[n], np.abs(svd_model.components_[i][n]))\n",
    "                 for n in np.abs(svd_model.components_[i].argsort())[::-1]] \n",
    "    d_ = {}\n",
    "    d_[\"SV_\"+str(i)] = best_features  \n",
    "    d_all.update(d_)\n",
    "\n",
    "df_tags = df_tags.from_dict(d_all)\n",
    "df_tags"
   ]
  },
  {
   "cell_type": "code",
   "execution_count": null,
   "id": "c75a43f6",
   "metadata": {
    "ExecuteTime": {
     "end_time": "2021-09-12T07:08:19.751441Z",
     "start_time": "2021-09-12T07:08:17.834791Z"
    }
   },
   "outputs": [],
   "source": [
    "# with open('svd_model.pkl', 'wb') as file_svd:\n",
    "#     svd_dct = {}\n",
    "#     svd_dct['model'] = svd_model\n",
    "#     svd_dct['df'] = df_svd\n",
    "#     svd_dct['tags'] = df_tags\n",
    "#     pickle.dump(svd_dct, file_svd)"
   ]
  },
  {
   "cell_type": "markdown",
   "id": "bd75d6ce",
   "metadata": {
    "ExecuteTime": {
     "end_time": "2021-09-12T06:37:33.479882Z",
     "start_time": "2021-09-12T06:37:33.474733Z"
    }
   },
   "source": [
    "## Clustering Dimensionality Reduced Dataset\n",
    "https://www.dummies.com/programming/big-data/data-science/data-science-performing-hierarchical-clustering-with-python/"
   ]
  },
  {
   "cell_type": "code",
   "execution_count": 3,
   "id": "3242563d",
   "metadata": {
    "ExecuteTime": {
     "end_time": "2021-09-12T07:58:06.115540Z",
     "start_time": "2021-09-12T07:58:05.460418Z"
    }
   },
   "outputs": [],
   "source": [
    "with open('svd_model.pkl', 'rb') as file_svd:\n",
    "    svd_dct = pickle.load(file_svd)\n",
    "    svd_model = svd_dct['model']\n",
    "    df_svd = svd_dct['df']\n",
    "    df_tags = svd_dct['tags']"
   ]
  },
  {
   "cell_type": "markdown",
   "id": "0ee609c2",
   "metadata": {},
   "source": [
    "### Clustering 1"
   ]
  },
  {
   "cell_type": "code",
   "execution_count": 4,
   "id": "db8ba6ad",
   "metadata": {
    "ExecuteTime": {
     "end_time": "2021-09-12T08:23:17.812373Z",
     "start_time": "2021-09-12T07:58:09.620579Z"
    }
   },
   "outputs": [
    {
     "name": "stdout",
     "output_type": "stream",
     "text": [
      "Starting Fit...\n",
      "Initialization complete\n",
      "Iteration 0, inertia 67886.96899800438\n",
      "Iteration 1, inertia 55952.584986994014\n",
      "Iteration 2, inertia 55443.12680935263\n",
      "Iteration 3, inertia 55305.51093943072\n",
      "Iteration 4, inertia 55269.62350002452\n",
      "Iteration 5, inertia 55253.56046721704\n",
      "Iteration 6, inertia 55238.87524874981\n",
      "Iteration 7, inertia 55177.07866368456\n",
      "Iteration 8, inertia 55100.973614000155\n",
      "Iteration 9, inertia 55046.386202673384\n",
      "Iteration 10, inertia 55040.473231075994\n",
      "Iteration 11, inertia 55031.91373628383\n",
      "Iteration 12, inertia 54983.502684892635\n",
      "Iteration 13, inertia 54941.653006091045\n",
      "Iteration 14, inertia 54912.92143654309\n",
      "Iteration 15, inertia 54912.83309138173\n",
      "Iteration 16, inertia 54912.8101311745\n",
      "Iteration 17, inertia 54912.7992732219\n",
      "Iteration 18, inertia 54912.78455107094\n",
      "Iteration 19, inertia 54912.779539031464\n",
      "Converged at iteration 19: strict convergence.\n",
      "Initialization complete\n",
      "Iteration 0, inertia 68248.99398896206\n",
      "Iteration 1, inertia 56513.363344809164\n",
      "Iteration 2, inertia 55939.14499720045\n",
      "Iteration 3, inertia 55841.70075648998\n",
      "Iteration 4, inertia 55783.52231959195\n",
      "Iteration 5, inertia 55761.35405837091\n",
      "Iteration 6, inertia 55735.45867294455\n",
      "Iteration 7, inertia 55714.96571514922\n",
      "Iteration 8, inertia 55713.33686238732\n",
      "Iteration 9, inertia 55712.88446997561\n",
      "Iteration 10, inertia 55712.79683564384\n",
      "Iteration 11, inertia 55712.76850027059\n",
      "Iteration 12, inertia 55712.75470645478\n",
      "Iteration 13, inertia 55712.74059794349\n",
      "Iteration 14, inertia 55712.73728850716\n",
      "Iteration 15, inertia 55712.734569944\n",
      "Iteration 16, inertia 55712.729169292805\n",
      "Iteration 17, inertia 55712.72607225343\n",
      "Converged at iteration 17: strict convergence.\n",
      "Initialization complete\n",
      "Iteration 0, inertia 68568.64459317896\n",
      "Iteration 1, inertia 56325.95607234889\n",
      "Iteration 2, inertia 55591.92848556405\n",
      "Iteration 3, inertia 55452.93080655048\n",
      "Iteration 4, inertia 55329.924292800126\n",
      "Iteration 5, inertia 55196.50469351096\n",
      "Iteration 6, inertia 55185.3338932136\n",
      "Iteration 7, inertia 55177.531581435826\n",
      "Iteration 8, inertia 55168.8235548569\n",
      "Iteration 9, inertia 55166.46708639562\n",
      "Iteration 10, inertia 55162.207684117\n",
      "Iteration 11, inertia 55151.03668471426\n",
      "Iteration 12, inertia 55150.74813388032\n",
      "Iteration 13, inertia 55150.743477130905\n",
      "Converged at iteration 13: strict convergence.\n",
      "Initialization complete\n",
      "Iteration 0, inertia 68162.90905485062\n",
      "Iteration 1, inertia 55874.52947119151\n",
      "Iteration 2, inertia 55354.224906538184\n",
      "Iteration 3, inertia 55080.54524317005\n",
      "Iteration 4, inertia 55007.54996190255\n",
      "Iteration 5, inertia 54968.29379133161\n",
      "Iteration 6, inertia 54951.32512224364\n",
      "Iteration 7, inertia 54942.88346855314\n",
      "Iteration 8, inertia 54932.73910589923\n",
      "Iteration 9, inertia 54931.89402245603\n",
      "Iteration 10, inertia 54931.79701037649\n",
      "Iteration 11, inertia 54931.79017080251\n",
      "Converged at iteration 11: strict convergence.\n",
      "Initialization complete\n",
      "Iteration 0, inertia 68783.0981983053\n",
      "Iteration 1, inertia 55559.09854049897\n",
      "Iteration 2, inertia 55025.353953508464\n",
      "Iteration 3, inertia 54903.79949464797\n",
      "Iteration 4, inertia 54753.28086472811\n",
      "Iteration 5, inertia 54695.33990902819\n",
      "Iteration 6, inertia 54691.79785098985\n",
      "Iteration 7, inertia 54689.96694596959\n",
      "Iteration 8, inertia 54687.29712963096\n",
      "Iteration 9, inertia 54685.511210699195\n",
      "Iteration 10, inertia 54683.64201996612\n",
      "Iteration 11, inertia 54677.33757095895\n",
      "Iteration 12, inertia 54647.92973227356\n",
      "Iteration 13, inertia 54580.87552798137\n",
      "Iteration 14, inertia 54573.71527731419\n",
      "Iteration 15, inertia 54573.66526414262\n",
      "Converged at iteration 15: strict convergence.\n",
      "Initialization complete\n",
      "Iteration 0, inertia 67794.46799437782\n",
      "Iteration 1, inertia 55760.26079217924\n",
      "Iteration 2, inertia 55311.7586885801\n",
      "Iteration 3, inertia 55198.478072474216\n",
      "Iteration 4, inertia 55160.02829555263\n",
      "Iteration 5, inertia 55129.27082074599\n",
      "Iteration 6, inertia 55101.21641863781\n",
      "Iteration 7, inertia 55077.01391993233\n",
      "Iteration 8, inertia 55068.17986667972\n",
      "Iteration 9, inertia 55067.77072010416\n",
      "Iteration 10, inertia 55067.76703407351\n",
      "Converged at iteration 10: center shift 5.040423589178844e-08 within tolerance 7.498333711154323e-07.\n",
      "Initialization complete\n",
      "Iteration 0, inertia 68065.31787792768\n",
      "Iteration 1, inertia 55927.539281873615\n",
      "Iteration 2, inertia 55285.12780798345\n",
      "Iteration 3, inertia 55117.4984607082\n",
      "Iteration 4, inertia 55019.60323086735\n",
      "Iteration 5, inertia 54893.0231821089\n",
      "Iteration 6, inertia 54875.58895522056\n",
      "Iteration 7, inertia 54864.24662487081\n",
      "Iteration 8, inertia 54827.620438657716\n",
      "Iteration 9, inertia 54825.99001276121\n",
      "Iteration 10, inertia 54825.458680435535\n",
      "Iteration 11, inertia 54824.36059895774\n",
      "Iteration 12, inertia 54823.62503399747\n",
      "Iteration 13, inertia 54823.54802745322\n",
      "Iteration 14, inertia 54823.540181283664\n",
      "Converged at iteration 14: strict convergence.\n",
      "Initialization complete\n",
      "Iteration 0, inertia 67357.3620476461\n",
      "Iteration 1, inertia 56373.29592880666\n",
      "Iteration 2, inertia 55855.61406932991\n",
      "Iteration 3, inertia 55750.308455859056\n",
      "Iteration 4, inertia 55689.80988086222\n",
      "Iteration 5, inertia 55677.269124011385\n",
      "Iteration 6, inertia 55663.218045374204\n",
      "Iteration 7, inertia 55625.18885948133\n",
      "Iteration 8, inertia 55598.09071520663\n",
      "Iteration 9, inertia 55596.77329585187\n",
      "Iteration 10, inertia 55596.297508661344\n",
      "Iteration 11, inertia 55596.17915543429\n",
      "Iteration 12, inertia 55596.15620211392\n",
      "Iteration 13, inertia 55596.148941052605\n",
      "Converged at iteration 13: strict convergence.\n",
      "Initialization complete\n",
      "Iteration 0, inertia 69742.9748264713\n",
      "Iteration 1, inertia 56120.97167356705\n",
      "Iteration 2, inertia 55551.626642574956\n",
      "Iteration 3, inertia 55370.77558171652\n",
      "Iteration 4, inertia 55315.31163275327\n",
      "Iteration 5, inertia 55299.32287025564\n",
      "Iteration 6, inertia 55297.01799848286\n",
      "Iteration 7, inertia 55296.60208603013\n",
      "Iteration 8, inertia 55295.82967387381\n",
      "Iteration 9, inertia 55295.516081036534\n",
      "Converged at iteration 9: strict convergence.\n",
      "Initialization complete\n",
      "Iteration 0, inertia 68564.21470789419\n",
      "Iteration 1, inertia 56577.12059651341\n",
      "Iteration 2, inertia 56086.553024831686\n",
      "Iteration 3, inertia 55839.21442284095\n",
      "Iteration 4, inertia 55724.95890060744\n",
      "Iteration 5, inertia 55681.27404564527\n",
      "Iteration 6, inertia 55645.30837897887\n",
      "Iteration 7, inertia 55632.81586208036\n",
      "Iteration 8, inertia 55627.3569229024\n",
      "Iteration 9, inertia 55618.40574601131\n",
      "Iteration 10, inertia 55616.97121636049\n",
      "Iteration 11, inertia 55607.758035104205\n",
      "Iteration 12, inertia 55602.74441914872\n",
      "Iteration 13, inertia 55583.77846210353\n",
      "Iteration 14, inertia 55517.55435766934\n",
      "Iteration 15, inertia 55478.03866043547\n",
      "Iteration 16, inertia 55477.98662039537\n",
      "Iteration 17, inertia 55477.98136792798\n",
      "Converged at iteration 17: strict convergence.\n"
     ]
    }
   ],
   "source": [
    "from sklearn.cluster import KMeans\n",
    "clustering = KMeans(n_clusters=200,\n",
    "                    verbose = 1,\n",
    "                    random_state=1337)\n",
    "print('Starting Fit...')\n",
    "clustering.fit(df_svd)\n",
    "Kx = clustering.cluster_centers_\n",
    "Kx_mapping = {case:cluster for case,\n",
    " cluster in enumerate(clustering.labels_)}"
   ]
  },
  {
   "cell_type": "code",
   "execution_count": 5,
   "id": "15f2cf77",
   "metadata": {
    "ExecuteTime": {
     "end_time": "2021-09-12T08:25:19.520978Z",
     "start_time": "2021-09-12T08:25:16.742141Z"
    }
   },
   "outputs": [],
   "source": [
    "# with open('kmeans_clustering.pkl', 'wb') as file_kx:\n",
    "#     kx_dct = {}\n",
    "#     kx_dct['centers'] = Kx\n",
    "#     kx_dct['mapping'] = Kx_mapping\n",
    "#     pickle.dump(kx_dct, file_kx)"
   ]
  },
  {
   "cell_type": "markdown",
   "id": "6c1b07a1",
   "metadata": {},
   "source": [
    "### Clustering 2"
   ]
  },
  {
   "cell_type": "code",
   "execution_count": 2,
   "id": "f84b9f8e",
   "metadata": {
    "ExecuteTime": {
     "end_time": "2021-09-13T00:34:21.159351Z",
     "start_time": "2021-09-13T00:34:20.632517Z"
    }
   },
   "outputs": [],
   "source": [
    "with open('kmeans_clustering.pkl', 'rb') as file_kx:\n",
    "    kx_dct = pickle.load(file_kx)\n",
    "    Kx = kx_dct['centers']\n",
    "    Kx_mapping = kx_dct['mapping']"
   ]
  },
  {
   "cell_type": "code",
   "execution_count": 63,
   "id": "de06b825",
   "metadata": {
    "ExecuteTime": {
     "end_time": "2021-09-13T06:28:30.625223Z",
     "start_time": "2021-09-13T06:28:30.593448Z"
    }
   },
   "outputs": [],
   "source": [
    "from scipy.cluster.hierarchy import linkage, dendrogram\n",
    "Z = linkage(Kx, method='ward', optimal_ordering=True)"
   ]
  },
  {
   "cell_type": "code",
   "execution_count": 64,
   "id": "11995e01",
   "metadata": {
    "ExecuteTime": {
     "end_time": "2021-09-13T06:28:38.074298Z",
     "start_time": "2021-09-13T06:28:31.228576Z"
    }
   },
   "outputs": [
    {
     "data": {
      "image/png": "[encoded data removed]",
      "text/plain": [
       "<Figure size 3600x1200 with 1 Axes>"
      ]
     },
     "metadata": {
      "needs_background": "light"
     },
     "output_type": "display_data"
    }
   ],
   "source": [
    "fig, ax = plt.subplots(figsize=(12,4), dpi=300)\n",
    "dn = dendrogram(Z, ax=ax)\n",
    "ax.set_ylabel(r'$\\Delta$');\n",
    "plt.axhline(y=2.4, c='r')\n",
    "plt.show()"
   ]
  },
  {
   "cell_type": "code",
   "execution_count": 65,
   "id": "1dfa92da",
   "metadata": {
    "ExecuteTime": {
     "end_time": "2021-09-13T06:28:51.554524Z",
     "start_time": "2021-09-13T06:28:51.085130Z"
    }
   },
   "outputs": [
    {
     "data": {
      "image/png": "[encoded data removed]",
      "text/plain": [
       "<Figure size 3600x1200 with 1 Axes>"
      ]
     },
     "metadata": {
      "needs_background": "light"
     },
     "output_type": "display_data"
    }
   ],
   "source": [
    "fig, ax = plt.subplots(figsize=(12,4), dpi=300)\n",
    "dendo = dendrogram(Z, truncate_mode='level',p=5)\n",
    "plt.ylabel(r'$\\Delta$')\n",
    "plt.axhline(y=2.55, c='r')\n",
    "plt.show()"
   ]
  },
  {
   "cell_type": "code",
   "execution_count": 54,
   "id": "bf802abc",
   "metadata": {
    "ExecuteTime": {
     "end_time": "2021-09-13T01:22:55.379956Z",
     "start_time": "2021-09-13T01:22:54.051554Z"
    }
   },
   "outputs": [
    {
     "data": {
      "text/plain": [
       "<matplotlib.collections.PathCollection at 0x7f4c3b95d820>"
      ]
     },
     "execution_count": 54,
     "metadata": {},
     "output_type": "execute_result"
    },
    {
     "data": {
      "image/png": "[encoded data removed]",
      "text/plain": [
       "<Figure size 432x288 with 1 Axes>"
      ]
     },
     "metadata": {
      "needs_background": "light"
     },
     "output_type": "display_data"
    }
   ],
   "source": [
    "from scipy.cluster.hierarchy import fcluster\n",
    "from sklearn.decomposition import PCA\n",
    "\n",
    "y_predict = fcluster(Z, t=2.5, criterion='distance')\n",
    "X_res_new = PCA(n_components=2, random_state=1337).fit_transform(Kx)\n",
    "plt.scatter(X_res_new[:,0], X_res_new[:,1], c=y_predict)"
   ]
  },
  {
   "cell_type": "code",
   "execution_count": 32,
   "id": "b125a9ca",
   "metadata": {
    "ExecuteTime": {
     "end_time": "2021-09-13T00:52:01.068700Z",
     "start_time": "2021-09-13T00:51:59.985868Z"
    }
   },
   "outputs": [
    {
     "data": {
      "text/plain": [
       "<matplotlib.collections.PathCollection at 0x7f4c396c63a0>"
      ]
     },
     "execution_count": 32,
     "metadata": {},
     "output_type": "execute_result"
    },
    {
     "data": {
      "image/png": "[encoded data removed]",
      "text/plain": [
       "<Figure size 432x288 with 1 Axes>"
      ]
     },
     "metadata": {
      "needs_background": "light"
     },
     "output_type": "display_data"
    }
   ],
   "source": [
    "from scipy.cluster.hierarchy import fcluster\n",
    "from sklearn.decomposition import PCA\n",
    "\n",
    "y_predict = fcluster(Z, t=2.5, criterion='distance')\n",
    "X_res_new = PCA(n_components=3, random_state=1337).fit_transform(Kx)\n",
    "plt.scatter(X_res_new[:,1], X_res_new[:,2], c=y_predict)"
   ]
  },
  {
   "cell_type": "code",
   "execution_count": 33,
   "id": "dd5e0b83",
   "metadata": {
    "ExecuteTime": {
     "end_time": "2021-09-13T00:52:18.152745Z",
     "start_time": "2021-09-13T00:52:16.410383Z"
    }
   },
   "outputs": [],
   "source": [
    "from scipy.cluster.hierarchy import fcluster\n",
    "labels = fcluster(Z, t=2.5, criterion='distance')\n",
    "\n",
    "H_mapping = {case:cluster for case,\n",
    " cluster in enumerate(labels)}\n",
    "final_mapping = {case:H_mapping[Kx_mapping[case]]\n",
    " for case in Kx_mapping}"
   ]
  },
  {
   "cell_type": "code",
   "execution_count": 34,
   "id": "846c6abb",
   "metadata": {
    "ExecuteTime": {
     "end_time": "2021-09-13T00:52:18.599346Z",
     "start_time": "2021-09-13T00:52:18.589919Z"
    }
   },
   "outputs": [
    {
     "data": {
      "text/plain": [
       "815848"
      ]
     },
     "execution_count": 34,
     "metadata": {},
     "output_type": "execute_result"
    }
   ],
   "source": [
    "len(final_mapping)"
   ]
  },
  {
   "cell_type": "code",
   "execution_count": 35,
   "id": "8e0374bc",
   "metadata": {
    "ExecuteTime": {
     "end_time": "2021-09-13T00:52:33.208882Z",
     "start_time": "2021-09-13T00:52:19.061797Z"
    }
   },
   "outputs": [],
   "source": [
    "df_new = pd.read_csv(\"processed_data.csv\")\n",
    "df_ = df_new[df_new.yr == 2019]"
   ]
  },
  {
   "cell_type": "code",
   "execution_count": 36,
   "id": "aaff1a37",
   "metadata": {
    "ExecuteTime": {
     "end_time": "2021-09-13T00:52:33.454871Z",
     "start_time": "2021-09-13T00:52:33.211732Z"
    }
   },
   "outputs": [
    {
     "name": "stderr",
     "output_type": "stream",
     "text": [
      "<ipython-input-36-a42fc020d3a7>:1: SettingWithCopyWarning: \n",
      "A value is trying to be set on a copy of a slice from a DataFrame.\n",
      "Try using .loc[row_indexer,col_indexer] = value instead\n",
      "\n",
      "See the caveats in the documentation: https://pandas.pydata.org/pandas-docs/stable/user_guide/indexing.html#returning-a-view-versus-a-copy\n",
      "  df_['Cluster'] = list(final_mapping.values())\n"
     ]
    },
    {
     "data": {
      "text/html": [
       "<div>\n",
       "<style scoped>\n",
       "    .dataframe tbody tr th:only-of-type {\n",
       "        vertical-align: middle;\n",
       "    }\n",
       "\n",
       "    .dataframe tbody tr th {\n",
       "        vertical-align: top;\n",
       "    }\n",
       "\n",
       "    .dataframe thead th {\n",
       "        text-align: right;\n",
       "    }\n",
       "</style>\n",
       "<table border=\"1\" class=\"dataframe\">\n",
       "  <thead>\n",
       "    <tr style=\"text-align: right;\">\n",
       "      <th></th>\n",
       "      <th>Unnamed: 0</th>\n",
       "      <th>Unnamed: 0.1</th>\n",
       "      <th>XML_Line</th>\n",
       "      <th>Date</th>\n",
       "      <th>Title</th>\n",
       "      <th>Tags</th>\n",
       "      <th>Tags-2</th>\n",
       "      <th>Year_month</th>\n",
       "      <th>Time</th>\n",
       "      <th>yr</th>\n",
       "      <th>month</th>\n",
       "      <th>Tags-3</th>\n",
       "      <th>Cluster</th>\n",
       "    </tr>\n",
       "  </thead>\n",
       "  <tbody>\n",
       "    <tr>\n",
       "      <th>3301546</th>\n",
       "      <td>2456513</td>\n",
       "      <td>0</td>\n",
       "      <td>42668723</td>\n",
       "      <td>2019-01-01T00:02:37.510</td>\n",
       "      <td>Unable to print a class list attribute using i...</td>\n",
       "      <td>python|python-3.x|list|class|printing</td>\n",
       "      <td>python</td>\n",
       "      <td>2019-01-01</td>\n",
       "      <td>00:02:37.510</td>\n",
       "      <td>2019</td>\n",
       "      <td>2019-01</td>\n",
       "      <td>python python-3.x list class printing</td>\n",
       "      <td>3</td>\n",
       "    </tr>\n",
       "    <tr>\n",
       "      <th>3301547</th>\n",
       "      <td>2456513</td>\n",
       "      <td>0</td>\n",
       "      <td>42668723</td>\n",
       "      <td>2019-01-01T00:02:37.510</td>\n",
       "      <td>Unable to print a class list attribute using i...</td>\n",
       "      <td>python|python-3.x|list|class|printing</td>\n",
       "      <td>python-3.x</td>\n",
       "      <td>2019-01-01</td>\n",
       "      <td>00:02:37.510</td>\n",
       "      <td>2019</td>\n",
       "      <td>2019-01</td>\n",
       "      <td>python python-3.x list class printing</td>\n",
       "      <td>3</td>\n",
       "    </tr>\n",
       "    <tr>\n",
       "      <th>3301548</th>\n",
       "      <td>2456513</td>\n",
       "      <td>0</td>\n",
       "      <td>42668723</td>\n",
       "      <td>2019-01-01T00:02:37.510</td>\n",
       "      <td>Unable to print a class list attribute using i...</td>\n",
       "      <td>python|python-3.x|list|class|printing</td>\n",
       "      <td>list</td>\n",
       "      <td>2019-01-01</td>\n",
       "      <td>00:02:37.510</td>\n",
       "      <td>2019</td>\n",
       "      <td>2019-01</td>\n",
       "      <td>python python-3.x list class printing</td>\n",
       "      <td>3</td>\n",
       "    </tr>\n",
       "    <tr>\n",
       "      <th>3301549</th>\n",
       "      <td>2456513</td>\n",
       "      <td>0</td>\n",
       "      <td>42668723</td>\n",
       "      <td>2019-01-01T00:02:37.510</td>\n",
       "      <td>Unable to print a class list attribute using i...</td>\n",
       "      <td>python|python-3.x|list|class|printing</td>\n",
       "      <td>class</td>\n",
       "      <td>2019-01-01</td>\n",
       "      <td>00:02:37.510</td>\n",
       "      <td>2019</td>\n",
       "      <td>2019-01</td>\n",
       "      <td>python python-3.x list class printing</td>\n",
       "      <td>3</td>\n",
       "    </tr>\n",
       "    <tr>\n",
       "      <th>3301550</th>\n",
       "      <td>2456513</td>\n",
       "      <td>0</td>\n",
       "      <td>42668723</td>\n",
       "      <td>2019-01-01T00:02:37.510</td>\n",
       "      <td>Unable to print a class list attribute using i...</td>\n",
       "      <td>python|python-3.x|list|class|printing</td>\n",
       "      <td>printing</td>\n",
       "      <td>2019-01-01</td>\n",
       "      <td>00:02:37.510</td>\n",
       "      <td>2019</td>\n",
       "      <td>2019-01</td>\n",
       "      <td>python python-3.x list class printing</td>\n",
       "      <td>3</td>\n",
       "    </tr>\n",
       "  </tbody>\n",
       "</table>\n",
       "</div>"
      ],
      "text/plain": [
       "         Unnamed: 0  Unnamed: 0.1  XML_Line                     Date  \\\n",
       "3301546     2456513             0  42668723  2019-01-01T00:02:37.510   \n",
       "3301547     2456513             0  42668723  2019-01-01T00:02:37.510   \n",
       "3301548     2456513             0  42668723  2019-01-01T00:02:37.510   \n",
       "3301549     2456513             0  42668723  2019-01-01T00:02:37.510   \n",
       "3301550     2456513             0  42668723  2019-01-01T00:02:37.510   \n",
       "\n",
       "                                                     Title  \\\n",
       "3301546  Unable to print a class list attribute using i...   \n",
       "3301547  Unable to print a class list attribute using i...   \n",
       "3301548  Unable to print a class list attribute using i...   \n",
       "3301549  Unable to print a class list attribute using i...   \n",
       "3301550  Unable to print a class list attribute using i...   \n",
       "\n",
       "                                          Tags      Tags-2  Year_month  \\\n",
       "3301546  python|python-3.x|list|class|printing      python  2019-01-01   \n",
       "3301547  python|python-3.x|list|class|printing  python-3.x  2019-01-01   \n",
       "3301548  python|python-3.x|list|class|printing        list  2019-01-01   \n",
       "3301549  python|python-3.x|list|class|printing       class  2019-01-01   \n",
       "3301550  python|python-3.x|list|class|printing    printing  2019-01-01   \n",
       "\n",
       "                 Time    yr    month                                 Tags-3  \\\n",
       "3301546  00:02:37.510  2019  2019-01  python python-3.x list class printing   \n",
       "3301547  00:02:37.510  2019  2019-01  python python-3.x list class printing   \n",
       "3301548  00:02:37.510  2019  2019-01  python python-3.x list class printing   \n",
       "3301549  00:02:37.510  2019  2019-01  python python-3.x list class printing   \n",
       "3301550  00:02:37.510  2019  2019-01  python python-3.x list class printing   \n",
       "\n",
       "         Cluster  \n",
       "3301546        3  \n",
       "3301547        3  \n",
       "3301548        3  \n",
       "3301549        3  \n",
       "3301550        3  "
      ]
     },
     "execution_count": 36,
     "metadata": {},
     "output_type": "execute_result"
    }
   ],
   "source": [
    "df_['Cluster'] = list(final_mapping.values())\n",
    "df_.head()"
   ]
  },
  {
   "cell_type": "code",
   "execution_count": 37,
   "id": "e16adfac",
   "metadata": {
    "ExecuteTime": {
     "end_time": "2021-09-13T00:52:33.531836Z",
     "start_time": "2021-09-13T00:52:33.457382Z"
    }
   },
   "outputs": [
    {
     "data": {
      "text/plain": [
       "python                 14620\n",
       "tensorflow              8921\n",
       "keras                   6056\n",
       "machine-learning        3027\n",
       "deep-learning           2239\n",
       "                       ...  \n",
       "bgr                        1\n",
       "memory-mapped-files        1\n",
       "hardware                   1\n",
       "4d                         1\n",
       "centos7                    1\n",
       "Name: Tags-2, Length: 1539, dtype: int64"
      ]
     },
     "execution_count": 37,
     "metadata": {},
     "output_type": "execute_result"
    }
   ],
   "source": [
    "df_[df_.Cluster == 1]['Tags-2'].value_counts()"
   ]
  },
  {
   "cell_type": "code",
   "execution_count": 58,
   "id": "8089273a",
   "metadata": {
    "ExecuteTime": {
     "end_time": "2021-09-13T01:23:33.368442Z",
     "start_time": "2021-09-13T01:23:26.045144Z"
    }
   },
   "outputs": [],
   "source": [
    "df_.to_csv('clustered_data.csv')"
   ]
  },
  {
   "cell_type": "code",
   "execution_count": null,
   "id": "4279b084",
   "metadata": {},
   "outputs": [],
   "source": []
  }
 ],
 "metadata": {
  "kernelspec": {
   "display_name": "Python 3",
   "language": "python",
   "name": "python3"
  },
  "language_info": {
   "codemirror_mode": {
    "name": "ipython",
    "version": 3
   },
   "file_extension": ".py",
   "mimetype": "text/x-python",
   "name": "python",
   "nbconvert_exporter": "python",
   "pygments_lexer": "ipython3",
   "version": "3.8.8"
  },
  "toc": {
   "base_numbering": 1,
   "nav_menu": {},
   "number_sections": true,
   "sideBar": true,
   "skip_h1_title": false,
   "title_cell": "Table of Contents",
   "title_sidebar": "Contents",
   "toc_cell": false,
   "toc_position": {
    "height": "calc(100% - 180px)",
    "left": "10px",
    "top": "150px",
    "width": "375.797px"
   },
   "toc_section_display": true,
   "toc_window_display": true
  }
 },
 "nbformat": 4,
 "nbformat_minor": 5
}
