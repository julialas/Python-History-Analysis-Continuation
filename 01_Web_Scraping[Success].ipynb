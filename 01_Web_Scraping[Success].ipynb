{
 "cells": [
  {
   "cell_type": "code",
   "execution_count": 1,
   "id": "4520e9ad",
   "metadata": {
    "ExecuteTime": {
     "end_time": "2021-09-12T02:41:33.878362Z",
     "start_time": "2021-09-12T02:41:33.136242Z"
    }
   },
   "outputs": [],
   "source": [
    "import requests\n",
    "import pandas as pd\n",
    "import numpy as np\n",
    "import bs4\n",
    "from xml.etree import ElementTree as ET\n",
    "from tqdm import tqdm"
   ]
  },
  {
   "cell_type": "code",
   "execution_count": 2,
   "id": "7354fe10",
   "metadata": {
    "ExecuteTime": {
     "end_time": "2021-09-12T02:41:33.885581Z",
     "start_time": "2021-09-12T02:41:33.883057Z"
    }
   },
   "outputs": [],
   "source": [
    "file = '/mnt/data/public/stackexchange/Posts.xml' #Total Lines : 47_931_103"
   ]
  },
  {
   "cell_type": "code",
   "execution_count": 3,
   "id": "a23ec75e",
   "metadata": {
    "ExecuteTime": {
     "end_time": "2021-09-12T02:41:34.568415Z",
     "start_time": "2021-09-12T02:41:33.887429Z"
    },
    "scrolled": true
   },
   "outputs": [
    {
     "name": "stdout",
     "output_type": "stream",
     "text": [
      "﻿<?xml version=\"1.0\" encoding=\"utf-8\"?>\r",
      "\r\n",
      "<posts>\r",
      "\r\n",
      "  <row Id=\"4\" PostTypeId=\"1\" AcceptedAnswerId=\"7\" CreationDate=\"2008-07-31T21:42:52.667\" Score=\"658\" ViewCount=\"46852\" Body=\"&lt;p&gt;I want to use a &lt;code&gt;Track-Bar&lt;/code&gt; to change a &lt;code&gt;Form&lt;/code&gt;'s opacity.&lt;/p&gt;&#xA;&#xA;&lt;p&gt;This is my code:&lt;/p&gt;&#xA;&#xA;&lt;pre class=&quot;lang-cs prettyprint-override&quot;&gt;&lt;code&gt;    decimal trans = trackBar1.Value / 5000;&#xA;    this.Opacity = trans;&#xA;&lt;/code&gt;&lt;/pre&gt;&#xA;&#xA;&lt;p&gt;When I build the application, it gives the following error:&lt;/p&gt;&#xA;&#xA;&lt;blockquote&gt;&#xA;  &lt;p&gt;Cannot implicitly convert type &lt;code&gt;decimal&lt;/code&gt; to &lt;code&gt;double&lt;/code&gt;&lt;/p&gt;&#xA;&lt;/blockquote&gt;&#xA;&#xA;&lt;p&gt;I have tried using &lt;code&gt;trans&lt;/code&gt; and &lt;code&gt;double&lt;/code&gt; but then the &lt;code&gt;Control&lt;/code&gt; doesn't work. This code worked fine in a past &lt;strong&gt;VB.NET&lt;/strong&gt; &lt;code&gt;Project&lt;/code&gt;.&lt;/p&gt;&#xA;\" OwnerUserId=\"8\" LastEditorUserId=\"12780337\" LastEditorDisplayName=\"Rich B\" LastEditDate=\"2020-02-28T11:38:30.540\" LastActivityDate=\"2020-02-28T11:38:30.540\" Title=\"Convert Decimal to Double\" Tags=\"&lt;c#&gt;&lt;floating-point&gt;&lt;type-conversion&gt;&lt;double&gt;&lt;decimal&gt;\" AnswerCount=\"13\" CommentCount=\"5\" FavoriteCount=\"49\" CommunityOwnedDate=\"2012-10-31T16:42:47.213\" />\r",
      "\r\n",
      "  <row Id=\"6\" PostTypeId=\"1\" AcceptedAnswerId=\"31\" CreationDate=\"2008-07-31T22:08:08.620\" Score=\"293\" ViewCount=\"19107\" Body=\"&lt;p&gt;I have an absolutely positioned &lt;code&gt;div&lt;/code&gt; containing several children, one of which is a relatively positioned &lt;code&gt;div&lt;/code&gt;. When I use a &lt;code&gt;percentage-based width&lt;/code&gt; on the child &lt;code&gt;div&lt;/code&gt;, it collapses to &lt;code&gt;0 width&lt;/code&gt; on IE7, but not on Firefox or Safari.&lt;/p&gt;&#xA;&#xA;&lt;p&gt;If I use &lt;code&gt;pixel width&lt;/code&gt;, it works. If the parent is relatively positioned, the percentage width on the child works.&lt;/p&gt;&#xA;&#xA;&lt;ol&gt;&#xA;&lt;li&gt;Is there something I'm missing here?&lt;/li&gt;&#xA;&lt;li&gt;Is there an easy fix for this besides the &lt;code&gt;pixel-based width&lt;/code&gt; on the&#xA;child?&lt;/li&gt;&#xA;&lt;li&gt;Is there an area of the CSS specification that covers this?&lt;/li&gt;&#xA;&lt;/ol&gt;&#xA;\" OwnerUserId=\"9\" LastEditorUserId=\"3641067\" LastEditorDisplayName=\"Rich B\" LastEditDate=\"2019-07-19T01:43:04.077\" LastActivityDate=\"2019-07-19T01:43:04.077\" Title=\"Percentage width child element in absolutely positioned parent on Internet Explorer 7\" Tags=\"&lt;html&gt;&lt;css&gt;&lt;internet-explorer-7&gt;\" AnswerCount=\"6\" CommentCount=\"0\" FavoriteCount=\"11\" />\r",
      "\r\n",
      "  <row Id=\"7\" PostTypeId=\"2\" ParentId=\"4\" CreationDate=\"2008-07-31T22:17:57.883\" Score=\"440\" Body=\"&lt;p&gt;An explicit cast to &lt;code&gt;double&lt;/code&gt; like this isn't necessary:&lt;/p&gt;&#xA;&#xA;&lt;pre&gt;&lt;code&gt;double trans = (double) trackBar1.Value / 5000.0;&#xA;&lt;/code&gt;&lt;/pre&gt;&#xA;&#xA;&lt;p&gt;Identifying the constant as &lt;code&gt;5000.0&lt;/code&gt; (or as &lt;code&gt;5000d&lt;/code&gt;) is sufficient:&lt;/p&gt;&#xA;&#xA;&lt;pre&gt;&lt;code&gt;double trans = trackBar1.Value / 5000.0;&#xA;double trans = trackBar1.Value / 5000d;&#xA;&lt;/code&gt;&lt;/pre&gt;&#xA;\" OwnerUserId=\"9\" LastEditorUserId=\"5496973\" LastEditDate=\"2019-10-21T14:03:54.607\" LastActivityDate=\"2019-10-21T14:03:54.607\" CommentCount=\"0\" />\r",
      "\r\n",
      "  <row Id=\"9\" PostTypeId=\"1\" AcceptedAnswerId=\"1404\" CreationDate=\"2008-07-31T23:40:59.743\" Score=\"1819\" ViewCount=\"594316\" Body=\"&lt;p&gt;Given a &lt;code&gt;DateTime&lt;/code&gt; representing a person's birthday, how do I calculate their age in years?  &lt;/p&gt;&#xA;\" OwnerUserId=\"1\" LastEditorUserId=\"3956566\" LastEditorDisplayName=\"Rich B\" LastEditDate=\"2018-04-21T17:48:14.477\" LastActivityDate=\"2020-02-29T01:31:43.697\" Title=\"How do I calculate someone's age in C#?\" Tags=\"&lt;c#&gt;&lt;.net&gt;&lt;datetime&gt;\" AnswerCount=\"61\" CommentCount=\"7\" FavoriteCount=\"450\" CommunityOwnedDate=\"2011-08-16T19:40:43.080\" />\r",
      "\r\n",
      "  <row Id=\"11\" PostTypeId=\"1\" AcceptedAnswerId=\"1248\" CreationDate=\"2008-07-31T23:55:37.967\" Score=\"1488\" ViewCount=\"156068\" Body=\"&lt;p&gt;Given a specific &lt;code&gt;DateTime&lt;/code&gt; value, how do I display relative time, like:&lt;/p&gt;&#xA;&#xA;&lt;ul&gt;&#xA;&lt;li&gt;2 hours ago&lt;/li&gt;&#xA;&lt;li&gt;3 days ago&lt;/li&gt;&#xA;&lt;li&gt;a month ago&lt;/li&gt;&#xA;&lt;/ul&gt;&#xA;\" OwnerUserId=\"1\" LastEditorUserId=\"6479704\" LastEditorDisplayName=\"user2370523\" LastEditDate=\"2017-06-04T15:51:19.780\" LastActivityDate=\"2019-05-26T02:31:53.863\" Title=\"Calculate relative time in C#\" Tags=\"&lt;c#&gt;&lt;datetime&gt;&lt;time&gt;&lt;datediff&gt;&lt;relative-time-span&gt;\" AnswerCount=\"37\" CommentCount=\"4\" FavoriteCount=\"540\" CommunityOwnedDate=\"2009-09-04T13:15:59.820\" />\r",
      "\r\n",
      "  <row Id=\"12\" PostTypeId=\"2\" ParentId=\"11\" CreationDate=\"2008-07-31T23:56:41.303\" Score=\"327\" Body=\"&lt;p&gt;Here's how I do it&lt;/p&gt;&#xA;&#xA;&lt;pre class=&quot;lang-csharp prettyprint-override&quot;&gt;&lt;code&gt;var ts = new TimeSpan(DateTime.UtcNow.Ticks - dt.Ticks);&#xA;double delta = Math.Abs(ts.TotalSeconds);&#xA;&#xA;if (delta &amp;lt; 60)&#xA;{&#xA;  return ts.Seconds == 1 ? &quot;one second ago&quot; : ts.Seconds + &quot; seconds ago&quot;;&#xA;}&#xA;if (delta &amp;lt; 120)&#xA;{&#xA;  return &quot;a minute ago&quot;;&#xA;}&#xA;if (delta &amp;lt; 2700) // 45 * 60&#xA;{&#xA;  return ts.Minutes + &quot; minutes ago&quot;;&#xA;}&#xA;if (delta &amp;lt; 5400) // 90 * 60&#xA;{&#xA;  return &quot;an hour ago&quot;;&#xA;}&#xA;if (delta &amp;lt; 86400) // 24 * 60 * 60&#xA;{&#xA;  return ts.Hours + &quot; hours ago&quot;;&#xA;}&#xA;if (delta &amp;lt; 172800) // 48 * 60 * 60&#xA;{&#xA;  return &quot;yesterday&quot;;&#xA;}&#xA;if (delta &amp;lt; 2592000) // 30 * 24 * 60 * 60&#xA;{&#xA;  return ts.Days + &quot; days ago&quot;;&#xA;}&#xA;if (delta &amp;lt; 31104000) // 12 * 30 * 24 * 60 * 60&#xA;{&#xA;  int months = Convert.ToInt32(Math.Floor((double)ts.Days / 30));&#xA;  return months &amp;lt;= 1 ? &quot;one month ago&quot; : months + &quot; months ago&quot;;&#xA;}&#xA;int years = Convert.ToInt32(Math.Floor((double)ts.Days / 365));&#xA;return years &amp;lt;= 1 ? &quot;one year ago&quot; : years + &quot; years ago&quot;;&#xA;&lt;/code&gt;&lt;/pre&gt;&#xA;&#xA;&lt;p&gt;Suggestions? Comments? Ways to improve this algorithm?&lt;/p&gt;&#xA;\" OwnerUserId=\"1\" LastEditorUserId=\"1271898\" LastEditorDisplayName=\"GateKiller\" LastEditDate=\"2018-01-12T16:10:22.637\" LastActivityDate=\"2018-01-12T16:10:22.637\" CommentCount=\"10\" CommunityOwnedDate=\"2009-09-04T13:15:59.820\" />\r",
      "\r\n",
      "  <row Id=\"13\" PostTypeId=\"1\" CreationDate=\"2008-08-01T00:42:38.903\" Score=\"603\" ViewCount=\"187741\" Body=\"&lt;p&gt;Is there a standard way for a web server to be able to determine a user's timezone within a web page? &lt;/p&gt;&#xA;&#xA;&lt;p&gt;Perhaps from an HTTP header or part of the &lt;code&gt;user-agent&lt;/code&gt; string?&lt;/p&gt;&#xA;\" OwnerUserId=\"9\" LastEditorUserId=\"9752662\" LastEditorDisplayName=\"Rich B\" LastEditDate=\"2018-12-24T22:47:42.787\" LastActivityDate=\"2019-05-14T16:02:10.280\" Title=\"Determine a user's timezone\" Tags=\"&lt;html&gt;&lt;browser&gt;&lt;timezone&gt;&lt;user-agent&gt;&lt;timezone-offset&gt;\" AnswerCount=\"24\" CommentCount=\"10\" FavoriteCount=\"148\" />\r",
      "\r\n",
      "  <row Id=\"14\" PostTypeId=\"1\" CreationDate=\"2008-08-01T00:59:11.177\" Score=\"411\" ViewCount=\"130620\" Body=\"&lt;p&gt;What is the difference between &lt;a href=&quot;http://msdn.microsoft.com/en-us/library/9a6a2sxy.aspx&quot; rel=&quot;noreferrer&quot;&gt;&lt;code&gt;Math.Floor()&lt;/code&gt;&lt;/a&gt; and &lt;a href=&quot;http://msdn.microsoft.com/en-us/library/system.math.truncate.aspx&quot; rel=&quot;noreferrer&quot;&gt;&lt;code&gt;Math.Truncate()&lt;/code&gt;&lt;/a&gt; in .NET?&lt;/p&gt;&#xA;\" OwnerUserId=\"11\" OwnerDisplayName=\"Anonymous User\" LastEditorUserId=\"6495084\" LastEditorDisplayName=\"Rich B\" LastEditDate=\"2017-02-25T17:42:17.810\" LastActivityDate=\"2020-02-05T07:42:44.763\" Title=\"Difference between Math.Floor() and Math.Truncate()\" Tags=\"&lt;.net&gt;&lt;math&gt;\" AnswerCount=\"10\" CommentCount=\"4\" FavoriteCount=\"58\" />\r",
      "\r\n"
     ]
    }
   ],
   "source": [
    "!head $file"
   ]
  },
  {
   "cell_type": "code",
   "execution_count": 4,
   "id": "25b62695",
   "metadata": {
    "ExecuteTime": {
     "end_time": "2021-09-12T02:41:34.575511Z",
     "start_time": "2021-09-12T02:41:34.571622Z"
    }
   },
   "outputs": [],
   "source": [
    "keywords = [\n",
    "'python',\n",
    "]"
   ]
  },
  {
   "cell_type": "code",
   "execution_count": 5,
   "id": "32fea23b",
   "metadata": {
    "ExecuteTime": {
     "end_time": "2021-09-12T02:41:34.590819Z",
     "start_time": "2021-09-12T02:41:34.578154Z"
    }
   },
   "outputs": [],
   "source": [
    "# init_df = pd.DataFrame(columns = ['XML_Line', 'Date', 'Title', 'Tags',\n",
    "#                                   'ViewCount', 'AnswerCount', 'CommentCount',\n",
    "#                                   'FavoriteCount'])\n",
    "#init_df.to_csv('stackexchange_data.csv')"
   ]
  },
  {
   "cell_type": "code",
   "execution_count": 6,
   "id": "45761b79",
   "metadata": {
    "ExecuteTime": {
     "end_time": "2021-09-12T05:01:27.653363Z",
     "start_time": "2021-09-12T02:41:34.593458Z"
    }
   },
   "outputs": [
    {
     "name": "stdout",
     "output_type": "stream",
     "text": [
      "0 0\n",
      "500000 4101\n",
      "1000000 8912\n",
      "1500000 14319\n",
      "2000000 20492\n",
      "2500000 26613\n",
      "3000000 33151\n",
      "3500000 39527\n",
      "4000000 45513\n",
      "4500000 51587\n",
      "5000000 57499\n",
      "5500000 63486\n",
      "6000000 69585\n",
      "6500000 75671\n",
      "7000000 81918\n",
      "7500000 88060\n",
      "8000000 94489\n",
      "8500000 101270\n",
      "9000000 108121\n",
      "9500000 115432\n",
      "10000000 122915\n",
      "10500000 130215\n",
      "11000000 137686\n",
      "11500000 145719\n",
      "12000000 153301\n",
      "12500000 161540\n",
      "13000000 169732\n",
      "13500000 178439\n",
      "14000000 187311\n",
      "14500000 196435\n",
      "15000000 205486\n",
      "15500000 214327\n",
      "16000000 223835\n",
      "16500000 233967\n",
      "17000000 243781\n",
      "17500000 253590\n",
      "18000000 263661\n",
      "18500000 274285\n",
      "19000000 285191\n",
      "19500000 295788\n",
      "20000000 306670\n",
      "20500000 318083\n",
      "21000000 328851\n",
      "21500000 339877\n",
      "22000000 351357\n",
      "22500000 362977\n",
      "23000000 374844\n",
      "23500000 387402\n",
      "24000000 399567\n",
      "24500000 411833\n",
      "25000000 424192\n",
      "25500000 437088\n",
      "26000000 449674\n",
      "26500000 462338\n",
      "27000000 476081\n",
      "27500000 490442\n",
      "28000000 503954\n",
      "28500000 518084\n",
      "29000000 532614\n",
      "29500000 547048\n",
      "30000000 561275\n",
      "30500000 575650\n",
      "31000000 590524\n",
      "31500000 605259\n",
      "32000000 620413\n",
      "32500000 636868\n",
      "33000000 653755\n",
      "33500000 670151\n",
      "34000000 687587\n",
      "34500000 705472\n",
      "35000000 723757\n",
      "35500000 741958\n",
      "36000000 761235\n",
      "36500000 780537\n",
      "37000000 800118\n",
      "37500000 821115\n",
      "38000000 842497\n",
      "38500000 863768\n",
      "39000000 886182\n",
      "39500000 907875\n",
      "40000000 930101\n",
      "40500000 953076\n",
      "41000000 976636\n",
      "41500000 999718\n",
      "42000000 1023498\n",
      "42500000 1048923\n",
      "43000000 1072951\n",
      "43500000 1098374\n",
      "44000000 1126021\n",
      "44500000 1154261\n",
      "45000000 1182620\n",
      "45500000 1212185\n",
      "46000000 1239417\n",
      "46500000 1269478\n",
      "47000000 1300211\n",
      "47500000 1330268\n"
     ]
    },
    {
     "ename": "ParseError",
     "evalue": "not well-formed (invalid token): line 1, column 1 (<string>)",
     "output_type": "error",
     "traceback": [
      "Traceback \u001b[0;36m(most recent call last)\u001b[0m:\n",
      "  File \u001b[1;32m\"/opt/conda/lib/python3.8/site-packages/IPython/core/interactiveshell.py\"\u001b[0m, line \u001b[1;32m3437\u001b[0m, in \u001b[1;35mrun_code\u001b[0m\n    exec(code_obj, self.user_global_ns, self.user_ns)\n",
      "  File \u001b[1;32m\"<ipython-input-6-6dbdffd5e5dd>\"\u001b[0m, line \u001b[1;32m5\u001b[0m, in \u001b[1;35m<module>\u001b[0m\n    row = ET.fromstring(row)\n",
      "\u001b[0;36m  File \u001b[0;32m\"/opt/conda/lib/python3.8/xml/etree/ElementTree.py\"\u001b[0;36m, line \u001b[0;32m1320\u001b[0;36m, in \u001b[0;35mXML\u001b[0;36m\u001b[0m\n\u001b[0;31m    parser.feed(text)\u001b[0m\n",
      "\u001b[0;36m  File \u001b[0;32m\"<string>\"\u001b[0;36m, line \u001b[0;32munknown\u001b[0m\n\u001b[0;31mParseError\u001b[0m\u001b[0;31m:\u001b[0m not well-formed (invalid token): line 1, column 1\n"
     ]
    }
   ],
   "source": [
    "# length_appended = 0\n",
    "# with open(file,'r', encoding=\"utf-8\") as f:\n",
    "#     for i,row in enumerate(f):\n",
    "#         if i > 1:\n",
    "#             row = ET.fromstring(row)\n",
    "#             data = {'Line_No' : [i],\n",
    "#                     'Date' : [row.get('CreationDate')],\n",
    "#                     'Title' : [row.get('Title')],\n",
    "#                     'Tags' : [row.get('Tags')],\n",
    "#                     'ViewCount' : [row.get('ViewCount')],\n",
    "#                     'AnswerCount' : [row.get('AnswerCount')],\n",
    "#                     'CommentCount' : [row.get('CommentCount')],\n",
    "#                     'FavoriteCount' : [row.get('FavoriteCount')]}\n",
    "#             if [None] not in list(data.values())[:4]:\n",
    "#                 data['Tags'] = data['Tags'][0].replace('><','|')\\\n",
    "#                                               .replace('<','')\\\n",
    "#                                               .replace('>','')\n",
    "#                 tags = data['Tags'].split('|')\n",
    "\n",
    "#                 if len([k for k in keywords if k in tags]) != 0:\n",
    "#                     length_appended += 1\n",
    "#                     df = pd.DataFrame(data)\n",
    "#                     df.fillna(0, inplace = True)\n",
    "#                     df.to_csv('stackexchange_data.csv',\n",
    "#                               mode='a',\n",
    "#                               header=False,\n",
    "#                               index = False)\n",
    "#         if i % 500_000 == 0:\n",
    "#             print(i, length_appended)"
   ]
  },
  {
   "cell_type": "code",
   "execution_count": null,
   "id": "210aa573",
   "metadata": {
    "ExecuteTime": {
     "end_time": "2021-09-12T05:01:27.656693Z",
     "start_time": "2021-09-12T02:41:31.858Z"
    }
   },
   "outputs": [],
   "source": [
    "!wc -l stackexchange_data.csv"
   ]
  },
  {
   "cell_type": "code",
   "execution_count": null,
   "id": "185de7d4",
   "metadata": {
    "ExecuteTime": {
     "end_time": "2021-09-12T05:01:27.658041Z",
     "start_time": "2021-09-12T02:41:31.859Z"
    }
   },
   "outputs": [],
   "source": [
    "!ls -lh "
   ]
  },
  {
   "cell_type": "code",
   "execution_count": null,
   "id": "bfe49d2a",
   "metadata": {
    "ExecuteTime": {
     "end_time": "2021-09-12T05:01:27.659247Z",
     "start_time": "2021-09-12T02:41:31.860Z"
    }
   },
   "outputs": [],
   "source": [
    "!tail stackexchange_data.csv"
   ]
  },
  {
   "cell_type": "code",
   "execution_count": null,
   "id": "23dae888",
   "metadata": {},
   "outputs": [],
   "source": []
  }
 ],
 "metadata": {
  "kernelspec": {
   "display_name": "Python 3",
   "language": "python",
   "name": "python3"
  },
  "language_info": {
   "codemirror_mode": {
    "name": "ipython",
    "version": 3
   },
   "file_extension": ".py",
   "mimetype": "text/x-python",
   "name": "python",
   "nbconvert_exporter": "python",
   "pygments_lexer": "ipython3",
   "version": "3.8.8"
  },
  "toc": {
   "base_numbering": 1,
   "nav_menu": {},
   "number_sections": true,
   "sideBar": true,
   "skip_h1_title": false,
   "title_cell": "Table of Contents",
   "title_sidebar": "Contents",
   "toc_cell": false,
   "toc_position": {},
   "toc_section_display": true,
   "toc_window_display": false
  }
 },
 "nbformat": 4,
 "nbformat_minor": 5
}
